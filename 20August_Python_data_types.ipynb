{
  "nbformat": 4,
  "nbformat_minor": 0,
  "metadata": {
    "colab": {
      "provenance": [],
      "authorship_tag": "ABX9TyPCIip/UlN8kIFsqjFi+9A6",
      "include_colab_link": true
    },
    "kernelspec": {
      "name": "python3",
      "display_name": "Python 3"
    },
    "language_info": {
      "name": "python"
    }
  },
  "cells": [
    {
      "cell_type": "markdown",
      "metadata": {
        "id": "view-in-github",
        "colab_type": "text"
      },
      "source": [
        "<a href=\"https://colab.research.google.com/github/nishabhati12/ML-Python/blob/master/20August_Python_data_types.ipynb\" target=\"_parent\"><img src=\"https://colab.research.google.com/assets/colab-badge.svg\" alt=\"Open In Colab\"/></a>"
      ]
    },
    {
      "cell_type": "markdown",
      "source": [
        "**String based assignment problem:**"
      ],
      "metadata": {
        "id": "G2ITfBEo6Kfd"
      }
    },
    {
      "cell_type": "markdown",
      "source": [
        "1. Write a program to reverse a string"
      ],
      "metadata": {
        "id": "dOQgUYBc6U-2"
      }
    },
    {
      "cell_type": "code",
      "execution_count": null,
      "metadata": {
        "id": "2nD14v_M5nyV"
      },
      "outputs": [],
      "source": [
        "def rev_str(inp_str):\n",
        "# rev_str is fuction that takes value as input string, which we gonna reverse\n",
        "  rev_string = \"\" # this is the empty reverse string where we can store reverse string value\n",
        "  for char in inp_str: #Loop that iterarte each character from input string\n",
        "    rev_string=char+rev_string # Concatinate the char value 1 by 1 in rev_string\n",
        "  return rev_string\n",
        "  # return reverse string as output"
      ]
    },
    {
      "cell_type": "code",
      "source": [
        "inp_str = \"Vishal is a goood boy!\"\n",
        "# input string\n",
        "rev_str = rev_str(inp_str)\n",
        "#rev_str stores the value that comes from function output\n",
        "print(rev_str)\n",
        "# print the output"
      ],
      "metadata": {
        "colab": {
          "base_uri": "https://localhost:8080/"
        },
        "id": "U1Ctl4We6uzB",
        "outputId": "85fa713a-9e27-4f40-d585-c2ca4554928d"
      },
      "execution_count": null,
      "outputs": [
        {
          "output_type": "stream",
          "name": "stdout",
          "text": [
            "!yob dooog a si lahsiV\n"
          ]
        }
      ]
    },
    {
      "cell_type": "markdown",
      "source": [
        "2. Check if a string is a palindrome"
      ],
      "metadata": {
        "id": "q6VX4HZW8y8S"
      }
    },
    {
      "cell_type": "code",
      "source": [
        "def is_palindrome(str):\n",
        "  str=str.lower()\n",
        "\n",
        "  str= ''.join(e for e in str if e.isalnum())\n",
        "\n",
        "  return str == str[::-1]"
      ],
      "metadata": {
        "id": "jSa9sugL7atg"
      },
      "execution_count": null,
      "outputs": []
    },
    {
      "cell_type": "code",
      "source": [
        "print(is_palindrome(\"race car\"))\n",
        "print(is_palindrome(\"naman\"))\n",
        "print(is_palindrome(\"saras is si saras\"))"
      ],
      "metadata": {
        "colab": {
          "base_uri": "https://localhost:8080/"
        },
        "id": "zFeQCnrY9wsA",
        "outputId": "8c4b9c54-ad1b-4d01-85b1-bc0d2b5d3ea6"
      },
      "execution_count": null,
      "outputs": [
        {
          "output_type": "stream",
          "name": "stdout",
          "text": [
            "True\n",
            "True\n",
            "True\n"
          ]
        }
      ]
    },
    {
      "cell_type": "markdown",
      "source": [
        "3. Convert a string to uppercase"
      ],
      "metadata": {
        "id": "DcgFG1BH-sHN"
      }
    },
    {
      "cell_type": "code",
      "source": [
        "inp_str = input(\"Enter the string first:\")\n",
        "# take input from user\n",
        "upp_str = inp_str.upper()\n",
        "# upper() is used to covert the string in upper case\n",
        "print(\"String in uppercase: \", upp_str)"
      ],
      "metadata": {
        "colab": {
          "base_uri": "https://localhost:8080/"
        },
        "id": "g3jOmbkY-KMa",
        "outputId": "2971e79a-f58b-4a3a-aab2-808337f0ee7d"
      },
      "execution_count": null,
      "outputs": [
        {
          "output_type": "stream",
          "name": "stdout",
          "text": [
            "Enter the string first:string is in lowercase STRING is now according to fuction\n",
            "String in uppercase:  STRING IS IN LOWERCASE STRING IS NOW ACCORDING TO FUCTION\n"
          ]
        }
      ]
    },
    {
      "cell_type": "markdown",
      "source": [
        "4. Convert a string to lowercase\n"
      ],
      "metadata": {
        "id": "9jt0yo2gCnua"
      }
    },
    {
      "cell_type": "code",
      "source": [
        "inp_str = input(\"Enter the string first:\")\n",
        "# take input from user\n",
        "low_str = inp_str.lower()\n",
        "# upper() is used to covert the string in upper case\n",
        "print(\"String in lowercase: \", low_str)"
      ],
      "metadata": {
        "colab": {
          "base_uri": "https://localhost:8080/"
        },
        "id": "b1y8oFStB94o",
        "outputId": "0089338c-b82a-4dad-f4c4-bdf0c967da09"
      },
      "execution_count": null,
      "outputs": [
        {
          "output_type": "stream",
          "name": "stdout",
          "text": [
            "Enter the string first:GREAT NOW WE HAVE TO CONVERT IT IN LOWERcase\n",
            "String in lowercase:  great now we have to convert it in lowercase\n"
          ]
        }
      ]
    },
    {
      "cell_type": "markdown",
      "source": [
        "5. Count the number of vowels in a string"
      ],
      "metadata": {
        "id": "F27XMSnqDEdA"
      }
    },
    {
      "cell_type": "code",
      "source": [
        "def count_vowels(string):\n",
        "  # Initialize a variable that can count vowel\n",
        "  vow_count = 0\n",
        "\n",
        "  ## Convert the input string to lowercase to handle both upper and lowercase vowels\n",
        "  string = string.lower()\n",
        "  vowels = {\"a\",\"e\",\"i\",\"o\",\"u\"}\n",
        "\n",
        "  #Iterate through each character in the string\n",
        "  for char in string:\n",
        "    if char in vowels:\n",
        "      vow_count = vow_count+1\n",
        "\n",
        "  return vow_count\n",
        "\n",
        "#Input string\n",
        "inp_str = \"HI, This side Neha. U can call Me paper\"\n",
        "res= count_vowels(inp_str)\n",
        "print(\"Number of vowels:\", res)"
      ],
      "metadata": {
        "colab": {
          "base_uri": "https://localhost:8080/"
        },
        "id": "pgr-y5brC9Rr",
        "outputId": "63f58227-3a8c-4f3c-bee8-835779291de7"
      },
      "execution_count": null,
      "outputs": [
        {
          "output_type": "stream",
          "name": "stdout",
          "text": [
            "Number of vowels: 12\n"
          ]
        }
      ]
    },
    {
      "cell_type": "markdown",
      "source": [],
      "metadata": {
        "id": "miKetebnHxRS"
      }
    },
    {
      "cell_type": "code",
      "source": [
        "from google.colab import drive\n",
        "drive.mount('/content/drive')"
      ],
      "metadata": {
        "colab": {
          "base_uri": "https://localhost:8080/"
        },
        "id": "He4BGo7VHyL7",
        "outputId": "b7c9a716-3847-40de-ac38-79c99d1b340f"
      },
      "execution_count": null,
      "outputs": [
        {
          "output_type": "stream",
          "name": "stdout",
          "text": [
            "Mounted at /content/drive\n"
          ]
        }
      ]
    },
    {
      "cell_type": "markdown",
      "source": [
        "6. Count the number of consonants in a string"
      ],
      "metadata": {
        "id": "88Zy4KKMNsoI"
      }
    },
    {
      "cell_type": "code",
      "source": [
        "def count_consonants(string):\n",
        "  # Initialize a variable that can count vowel\n",
        "  con_count = 0\n",
        "\n",
        "  ## Convert the input string to lowercase to handle both upper and lowercase vowels\n",
        "  string = string.lower()\n",
        "  consonants = \"bcdfghjklmnpqrstvwxyzBCDFGHJKLMNPQRSTVWXYZ\"\n",
        "\n",
        "  #Iterate through each character in the string\n",
        "  for char in string:\n",
        "    if char in consonants:\n",
        "      con_count = con_count+1\n",
        "\n",
        "  return con_count\n",
        "\n",
        "#Input string\n",
        "inp_str = \"HI, This side Neha. U can call Me paper\"\n",
        "res= count_consonants(inp_str)\n",
        "print(\"Number of consonants:\", res)"
      ],
      "metadata": {
        "colab": {
          "base_uri": "https://localhost:8080/"
        },
        "id": "7VAsuD6SFDiS",
        "outputId": "81e6dd92-2970-49aa-817e-c0a56125055b"
      },
      "execution_count": null,
      "outputs": [
        {
          "output_type": "stream",
          "name": "stdout",
          "text": [
            "Number of consonants: 17\n"
          ]
        }
      ]
    },
    {
      "cell_type": "markdown",
      "source": [
        "7. Remove all whitespaces from a string\n"
      ],
      "metadata": {
        "id": "n2qg6d07VH-M"
      }
    },
    {
      "cell_type": "code",
      "source": [
        "def remove_whitespace(inp_str):\n",
        "  res=\"\"\n",
        "  for char in inp_str:\n",
        "    if char != \" \":\n",
        "      res+= char\n",
        "  return res\n",
        "\n",
        "\n",
        "inp_str = \"Hi there, I'm in DNB\"\n",
        "out_str = remove_whitespace(inp_str)\n",
        "print(out_str)"
      ],
      "metadata": {
        "colab": {
          "base_uri": "https://localhost:8080/"
        },
        "id": "aZR9wJJlOwmY",
        "outputId": "c2e2b5b3-84e1-4070-8b2f-ae9d4c264112"
      },
      "execution_count": null,
      "outputs": [
        {
          "output_type": "stream",
          "name": "stdout",
          "text": [
            "Hithere,I'minDNB\n"
          ]
        }
      ]
    },
    {
      "cell_type": "markdown",
      "source": [
        "8. Find the length of a string without using the len fuction"
      ],
      "metadata": {
        "id": "KN63ZsjiWL_B"
      }
    },
    {
      "cell_type": "code",
      "source": [
        "count =0\n",
        "for char in inp_str:\n",
        "  count+=1\n",
        "\n",
        "print(\"The length of the string:\", count)"
      ],
      "metadata": {
        "colab": {
          "base_uri": "https://localhost:8080/"
        },
        "id": "aFuSVw8KWAut",
        "outputId": "b11c4642-e938-42df-dd3b-3624cd9f6db9"
      },
      "execution_count": null,
      "outputs": [
        {
          "output_type": "stream",
          "name": "stdout",
          "text": [
            "The length of the string: 20\n"
          ]
        }
      ]
    },
    {
      "cell_type": "markdown",
      "source": [
        "9. Check if a string contains a specific word"
      ],
      "metadata": {
        "id": "4cqbmrrTXVyU"
      }
    },
    {
      "cell_type": "code",
      "source": [
        "inp_str = input(\"Enter a string:\")\n",
        "specific_word = input(\"Enter the specific word to check: \")\n",
        "\n",
        "if specific_word in inp_str:\n",
        "  print(f\"The string contain that word '{specific_word}'.\")\n",
        "else:\n",
        "  print(f\"The string does not contain that word '{specific_word}'.\")"
      ],
      "metadata": {
        "colab": {
          "base_uri": "https://localhost:8080/"
        },
        "id": "6aEWFsI9XN1N",
        "outputId": "6e51afbf-165b-4596-e119-3d148f1436c3"
      },
      "execution_count": null,
      "outputs": [
        {
          "output_type": "stream",
          "name": "stdout",
          "text": [
            "Enter a string:hi shruti, today I came with Saloni di. Would you like join?\n",
            "Enter the specific word to check: Saloni \n",
            "The string contain that word 'Saloni '.\n"
          ]
        }
      ]
    },
    {
      "cell_type": "markdown",
      "source": [
        "10. Replace a word in a string with another word\n"
      ],
      "metadata": {
        "id": "DdxeCFe8ZXCF"
      }
    },
    {
      "cell_type": "code",
      "source": [
        "inp_str = input(\"Enter a sentence: \") #input the string\n",
        "\n",
        "rep_word = input(\"Enter the word to be replaced:\") #input value that will be replaced\n",
        "new_word = input(\"Enter new word: \") # input value that you want to replace\n",
        "\n",
        "new_str = inp_str.replace(rep_word, new_word) #.replace() method is used to replace rep_word and new_word\n",
        "\n",
        "print(\"New string after replacement: \", new_str) # Modified string after replacement"
      ],
      "metadata": {
        "id": "20jnTUL3YrpP",
        "colab": {
          "base_uri": "https://localhost:8080/"
        },
        "outputId": "fe06ac03-f293-4c80-f309-78e53db20263"
      },
      "execution_count": null,
      "outputs": [
        {
          "output_type": "stream",
          "name": "stdout",
          "text": [
            "Enter a sentence: This is my book\n",
            "Enter the word to be replaced:my\n",
            "Enter new word: our\n",
            "New string after replacement:  This is our book\n"
          ]
        }
      ]
    },
    {
      "cell_type": "markdown",
      "source": [
        "11. Count the occurrences of word in a string"
      ],
      "metadata": {
        "id": "1Q_cHB4pGp21"
      }
    },
    {
      "cell_type": "code",
      "source": [
        "def count_word_occurrence(inp_str, target_word):\n",
        "  count_word = 0\n",
        "  words = inp_str.split()\n",
        "\n",
        "  for word in words:\n",
        "    if word == target_word:\n",
        "      count_word= count_word+1\n",
        "\n",
        "  return count_word\n",
        "\n",
        "\n",
        "inp_str=input(\"Enter the string value: \")\n",
        "target_word = input(\"Enter you target word which you want to count in the above string\")\n",
        "\n",
        "res = count_word_occurrence(inp_str, target_word)\n",
        "print(f\"The word '{target_word}' appears {res} times in the string \")\n"
      ],
      "metadata": {
        "colab": {
          "base_uri": "https://localhost:8080/"
        },
        "id": "Sw1HTTb0FcQI",
        "outputId": "e602c838-bc52-4cb8-f4d2-17dc9365779d"
      },
      "execution_count": null,
      "outputs": [
        {
          "output_type": "stream",
          "name": "stdout",
          "text": [
            "Enter the string value: Split the Input String: We split the input_string into a list of words using the split() method. This creates a list called words where each element is a word from the input string.\n",
            "Enter you target word which you want to count in the above stringwords\n",
            "The word 'words' appears 2 times in the string \n"
          ]
        }
      ]
    },
    {
      "cell_type": "markdown",
      "source": [
        "12. Find the first occurrence of word in a string"
      ],
      "metadata": {
        "id": "5E2am_oKJS3D"
      }
    },
    {
      "cell_type": "code",
      "source": [
        "def find_first_occurance(text, word):\n",
        "  index = text.find(word)\n",
        "\n",
        "  if index == -1:\n",
        "    return None\n",
        "\n",
        "  return index\n",
        "\n",
        "text = \"Split the Input String: We split the input_string into a list of words using the split() method. This creates a list called words where each element is a word from the input string.\"\n",
        "word = \"list\"\n",
        "result =find_first_occurance(text, word)\n",
        "print(\"Index of the first occurance: \", result)"
      ],
      "metadata": {
        "colab": {
          "base_uri": "https://localhost:8080/"
        },
        "id": "SU9NyINWItuX",
        "outputId": "381a34d8-c9f3-478a-a57c-df54b696b4fc"
      },
      "execution_count": null,
      "outputs": [
        {
          "output_type": "stream",
          "name": "stdout",
          "text": [
            "Index of the first occurance:  57\n"
          ]
        }
      ]
    },
    {
      "cell_type": "markdown",
      "source": [
        "13. Find the last occurrance of a word in a string"
      ],
      "metadata": {
        "id": "0KOWuf7eYN9k"
      }
    },
    {
      "cell_type": "code",
      "source": [
        "def find_last_occurance(text, word):\n",
        "  index = text.rfind(word)\n",
        "\n",
        "  if index == -1:\n",
        "    return None\n",
        "\n",
        "  return index\n",
        "\n",
        "text = \"Split the Input String: We split the input_string into a list of words using the split() method. This creates a list called words where each element is a word from the input string.\"\n",
        "word = \"list\"\n",
        "result =find_last_occurance(text, word)\n",
        "print(\"Index of the first occurance: \", result)"
      ],
      "metadata": {
        "colab": {
          "base_uri": "https://localhost:8080/"
        },
        "id": "RjmQ-VgqKzS4",
        "outputId": "22b1e5a9-0cfa-4225-d2d8-b274d254e3f5"
      },
      "execution_count": null,
      "outputs": [
        {
          "output_type": "stream",
          "name": "stdout",
          "text": [
            "Index of the first occurance:  112\n"
          ]
        }
      ]
    },
    {
      "cell_type": "markdown",
      "source": [
        "14. Split a string into alist of words"
      ],
      "metadata": {
        "id": "JvkPiL9IY5Yp"
      }
    },
    {
      "cell_type": "code",
      "source": [
        "def split_str_into_wrd(text):\n",
        "  word_list = text.split()\n",
        "\n",
        "  return word_list\n",
        "\n",
        "\n",
        "\n",
        "text = \"Split the Input String: We split the input_string into a list of words using the split() method. This creates a list called words where each element is a word from the input string.\"\n",
        "words = split_str_into_wrd(text)\n",
        "print(\"List of words: \", words)"
      ],
      "metadata": {
        "colab": {
          "base_uri": "https://localhost:8080/"
        },
        "id": "J0G6xJGpY1ph",
        "outputId": "5634f7d6-20ec-4e74-b830-ca9da0666080"
      },
      "execution_count": null,
      "outputs": [
        {
          "output_type": "stream",
          "name": "stdout",
          "text": [
            "List of words:  ['Split', 'the', 'Input', 'String:', 'We', 'split', 'the', 'input_string', 'into', 'a', 'list', 'of', 'words', 'using', 'the', 'split()', 'method.', 'This', 'creates', 'a', 'list', 'called', 'words', 'where', 'each', 'element', 'is', 'a', 'word', 'from', 'the', 'input', 'string.']\n"
          ]
        }
      ]
    },
    {
      "cell_type": "markdown",
      "source": [
        "15. Join a list of words into a string"
      ],
      "metadata": {
        "id": "xB66lxB2Zvfh"
      }
    },
    {
      "cell_type": "code",
      "source": [
        "def join_words_in_string(words_list):\n",
        "    #The join() method to join the words in the list into a single string.\n",
        "    joined_string = ' '.join(words_list)\n",
        "\n",
        "    #Return the joined string.\n",
        "    return joined_string\n",
        "\n",
        "# Example usage\n",
        "words = [\"This\", \"is\", \"a\", \"pen\", \"and\", \"pencil\"]\n",
        "text = join_words_in_string(words)\n",
        "print(\"Joined string:\", text)"
      ],
      "metadata": {
        "id": "rDh-4-__ZpEa",
        "colab": {
          "base_uri": "https://localhost:8080/"
        },
        "outputId": "1d40e359-93ee-4472-f44f-42e192933750"
      },
      "execution_count": null,
      "outputs": [
        {
          "output_type": "stream",
          "name": "stdout",
          "text": [
            "Joined string: This is a pen and pencil\n"
          ]
        }
      ]
    },
    {
      "cell_type": "markdown",
      "source": [
        "16. Convert a string where words are separated by spaces to one where words are separated by underscores."
      ],
      "metadata": {
        "id": "OQMAY2OlklLl"
      }
    },
    {
      "cell_type": "code",
      "source": [
        "def convert_to_underscore_separated(text):\n",
        "    #Use the replace() method to replace spaces with underscores.\n",
        "    underscore_separated = text.replace(\" \", \"_\")\n",
        "\n",
        "    #Return the converted string.\n",
        "    return underscore_separated\n",
        "\n",
        "# Example usage\n",
        "text = \"This is a pen and pencil\"\n",
        "converted_text = convert_to_underscore_separated(text)\n",
        "print(\"Converted text:\", converted_text)"
      ],
      "metadata": {
        "colab": {
          "base_uri": "https://localhost:8080/"
        },
        "id": "dhDxgBaAkVKm",
        "outputId": "76efdd70-be0c-4ffd-9e95-d6954bba6ba3"
      },
      "execution_count": null,
      "outputs": [
        {
          "output_type": "stream",
          "name": "stdout",
          "text": [
            "Converted text: This_is_a_pen_and_pencil\n"
          ]
        }
      ]
    },
    {
      "cell_type": "markdown",
      "source": [
        "17. Check if a string starts with a specific word or phrase."
      ],
      "metadata": {
        "id": "uAsyyV4ylIZv"
      }
    },
    {
      "cell_type": "code",
      "source": [
        "def starts_with(text, prefix):\n",
        "    #Use the startswith() method to check if the text starts with the specified prefix.\n",
        "    is_start = text.startswith(prefix)\n",
        "\n",
        "    # Return the result of the check.\n",
        "    return is_start\n",
        "\n",
        "# Example usage\n",
        "text = \"Check if a string starts with a specific word or phrase.\"\n",
        "prefix = \"Check\"\n",
        "result = starts_with(text, prefix)\n",
        "if result:\n",
        "    print(\"The text starts with the prefix.\")\n",
        "else:\n",
        "    print(\"The text does not start with the prefix.\")"
      ],
      "metadata": {
        "colab": {
          "base_uri": "https://localhost:8080/"
        },
        "id": "3sfqNn0ek6rS",
        "outputId": "c854d46a-1e40-4ec5-cefd-89d14621657d"
      },
      "execution_count": null,
      "outputs": [
        {
          "output_type": "stream",
          "name": "stdout",
          "text": [
            "The text starts with the prefix.\n"
          ]
        }
      ]
    },
    {
      "cell_type": "markdown",
      "source": [
        "18. Check if a string ends with a specific word or phrase."
      ],
      "metadata": {
        "id": "EirwoCuhlejQ"
      }
    },
    {
      "cell_type": "code",
      "source": [
        "def ends_with(text, suffix):\n",
        "    #Use the endswith() method to check if the text ends with the specified suffix.\n",
        "    is_end = text.endswith(suffix)\n",
        "\n",
        "    #Return the result of the check.\n",
        "    return is_end\n",
        "\n",
        "# Example usage\n",
        "text = \"Check if a string ends with a specific word or phrase.\"\n",
        "suffix = \"ase.\"\n",
        "result = ends_with(text, suffix)\n",
        "if result:\n",
        "    print(\"The text ends with the suffix.\")\n",
        "else:\n",
        "    print(\"The text does not end with the suffix.\")"
      ],
      "metadata": {
        "colab": {
          "base_uri": "https://localhost:8080/"
        },
        "id": "oD9REptClZDY",
        "outputId": "e120bc96-149d-4198-c006-9f53e60ebbcb"
      },
      "execution_count": null,
      "outputs": [
        {
          "output_type": "stream",
          "name": "stdout",
          "text": [
            "The text ends with the suffix.\n"
          ]
        }
      ]
    },
    {
      "cell_type": "markdown",
      "source": [
        "19. Convert a string to title case (e.g., \"hello world\" to \"Hello World\")."
      ],
      "metadata": {
        "id": "Ttt9AJ_hmKbz"
      }
    },
    {
      "cell_type": "code",
      "source": [
        "def convert_to_title_case(text):\n",
        "    #The title() method to convert the text to title case.\n",
        "    title_case_text = text.title()\n",
        "\n",
        "    #Return the converted text.\n",
        "    return title_case_text\n",
        "\n",
        "# Example usage\n",
        "text = \"hello world\"\n",
        "title_case_result = convert_to_title_case(text)\n",
        "print(\"Title case:\", title_case_result)"
      ],
      "metadata": {
        "colab": {
          "base_uri": "https://localhost:8080/"
        },
        "id": "kvf89EnDl8R-",
        "outputId": "137a6660-8a9b-4b7d-b975-b5ae07b954c9"
      },
      "execution_count": null,
      "outputs": [
        {
          "output_type": "stream",
          "name": "stdout",
          "text": [
            "Title case: Hello World\n"
          ]
        }
      ]
    },
    {
      "cell_type": "markdown",
      "source": [
        "20. Find the longest word in a string."
      ],
      "metadata": {
        "id": "VTN9KFFzmj1t"
      }
    },
    {
      "cell_type": "code",
      "source": [
        "def find_longest_word(text):\n",
        "    #split() method to split the text into a list of words.\n",
        "    words = text.split()\n",
        "\n",
        "    #Initialize variables to keep track of the longest word and its length.\n",
        "    longest_word = \"\"\n",
        "    max_length = 0\n",
        "\n",
        "    #Iterate through the list of words.\n",
        "    for word in words:\n",
        "        # Check if the length of the current word is greater than the current max_length.\n",
        "        if len(word) > max_length:\n",
        "            max_length = len(word)\n",
        "            longest_word = word\n",
        "\n",
        "    #Return the longest word.\n",
        "    return longest_word\n",
        "\n",
        "# Example usage\n",
        "text = \"Sentences can be made arbitrarily long in various ways. \"\n",
        "longest_word = find_longest_word(text)\n",
        "print(\"Longest word:\", longest_word)"
      ],
      "metadata": {
        "colab": {
          "base_uri": "https://localhost:8080/"
        },
        "id": "iw5dMH5-mbO1",
        "outputId": "3d0117a2-11dc-42cf-d961-86f7b9c21727"
      },
      "execution_count": null,
      "outputs": [
        {
          "output_type": "stream",
          "name": "stdout",
          "text": [
            "Longest word: arbitrarily\n"
          ]
        }
      ]
    },
    {
      "cell_type": "markdown",
      "source": [
        "21. Find the shortest word in a string."
      ],
      "metadata": {
        "id": "Eswl5vBMnQWP"
      }
    },
    {
      "cell_type": "code",
      "source": [
        "def find_shortest_word(text):\n",
        "    #split() method to split the text into a list of words.\n",
        "    words = text.split()\n",
        "\n",
        "    #Initialize variables to keep track of the shortest word and its length.\n",
        "    shortest_word = None\n",
        "    min_length = float('inf')  # Initialize to a large value\n",
        "\n",
        "    #Iterate through the list of words.\n",
        "    for word in words:\n",
        "        # Check if the length of the current word is smaller than the current min_length.\n",
        "        if len(word) < min_length:\n",
        "            min_length = len(word)\n",
        "            shortest_word = word\n",
        "\n",
        "    #Return the shortest word.\n",
        "    return shortest_word\n",
        "\n",
        "# Example usage\n",
        "text = \"Sentences can be made arbitrarily long in various ways.\"\n",
        "shortest_word = find_shortest_word(text)\n",
        "print(\"Shortest word:\", shortest_word)"
      ],
      "metadata": {
        "colab": {
          "base_uri": "https://localhost:8080/"
        },
        "id": "HjARaNP-m3BA",
        "outputId": "fd920274-5853-4f93-a93b-5a01dfa46067"
      },
      "execution_count": null,
      "outputs": [
        {
          "output_type": "stream",
          "name": "stdout",
          "text": [
            "Shortest word: be\n"
          ]
        }
      ]
    },
    {
      "cell_type": "markdown",
      "source": [
        "22. Reverse the order of words in a string."
      ],
      "metadata": {
        "id": "Es5lR7jin2Zu"
      }
    },
    {
      "cell_type": "code",
      "source": [
        "def rev_words(text):\n",
        "    #split() method to split the text into a list of words.\n",
        "    words = text.split()[::-1]\n",
        "    joined_words = []\n",
        "    #Iterate through the list of words.\n",
        "    for word in words:\n",
        "        # appending reversed words to l\n",
        "        joined_words.append(word)\n",
        "        # printing reverse words\n",
        "        rev_words = \" \".join(joined_words)\n",
        "\n",
        "    #Return the reverse words.\n",
        "    return rev_words\n",
        "\n",
        "# Example usage\n",
        "text = \"Reverse the order of words in a string\"\n",
        "rev_words = rev_words(text)\n",
        "print(\"Reverse words in a sentence:\", rev_words)"
      ],
      "metadata": {
        "colab": {
          "base_uri": "https://localhost:8080/"
        },
        "id": "L1HpaXF4npl7",
        "outputId": "2dd6867a-21ba-441f-cb13-1156f8e73f65"
      },
      "execution_count": null,
      "outputs": [
        {
          "output_type": "stream",
          "name": "stdout",
          "text": [
            "Reverse words in a sentence: string a in words of order the Reverse\n"
          ]
        }
      ]
    },
    {
      "cell_type": "markdown",
      "source": [
        "### 23. Check if a string is alphanumeric."
      ],
      "metadata": {
        "id": "-ujyBdfSonYP"
      }
    },
    {
      "cell_type": "code",
      "source": [
        "def is_alphanumeric(text):\n",
        "    #isalnum() method to check if the string is alphanumeric.\n",
        "    return text.isalnum()\n",
        "\n",
        "# Example usage\n",
        "text = \"NIsha123\"\n",
        "result = is_alphanumeric(text)\n",
        "if result:\n",
        "    print(\"The string is alphanumeric.\")\n",
        "else:\n",
        "    print(\"The string is not alphanumeric.\")"
      ],
      "metadata": {
        "colab": {
          "base_uri": "https://localhost:8080/"
        },
        "id": "2Qhzfge9roqq",
        "outputId": "6b4a4fcc-e1a5-425f-b3ba-c810c400cb30"
      },
      "execution_count": null,
      "outputs": [
        {
          "output_type": "stream",
          "name": "stdout",
          "text": [
            "The string is alphanumeric.\n"
          ]
        }
      ]
    },
    {
      "cell_type": "markdown",
      "source": [
        "24. Extract all digits from a string."
      ],
      "metadata": {
        "id": "YIvMcQYorxzx"
      }
    },
    {
      "cell_type": "code",
      "source": [
        "def extract_digits(text):\n",
        "    #Initialize an empty string to store the extracted digits.\n",
        "    digits = \"\"\n",
        "\n",
        "    #Iterate through each character in the text.\n",
        "    for char in text:\n",
        "        # Check if the character is a digit using the isdigit() method.\n",
        "        if char.isdigit():\n",
        "            # Append the digit to the digits string.\n",
        "            digits += char\n",
        "\n",
        "    #Return the extracted digits.\n",
        "    return digits\n",
        "\n",
        "\n",
        "# Example usage\n",
        "text = \"NISHA123Bhati9053\"\n",
        "extracted_digits = extract_digits(text)\n",
        "print(\"Extracted digits:\", extracted_digits)"
      ],
      "metadata": {
        "colab": {
          "base_uri": "https://localhost:8080/"
        },
        "id": "xEsn5RekrsN3",
        "outputId": "f997f00b-7fd0-44b1-c701-a029fbae9c8a"
      },
      "execution_count": null,
      "outputs": [
        {
          "output_type": "stream",
          "name": "stdout",
          "text": [
            "Extracted digits: 1239053\n"
          ]
        }
      ]
    },
    {
      "cell_type": "markdown",
      "source": [
        "25. Extract all alphabets from a string."
      ],
      "metadata": {
        "id": "AiiKCfI9sPr6"
      }
    },
    {
      "cell_type": "code",
      "source": [
        "def extract_alphabets(input_string):\n",
        "    alphabets = ' '.join([char for char in input_string if char.isalpha()])\n",
        "    return alphabets\n",
        "\n",
        "# Example input string\n",
        "input_string = \"NISHA123Bhati9053\"\n",
        "result = extract_alphabets(input_string)\n",
        "print(result)"
      ],
      "metadata": {
        "colab": {
          "base_uri": "https://localhost:8080/"
        },
        "id": "SjCRdSB6sH2v",
        "outputId": "3707747c-58fc-4ae6-c18d-0055ca32670f"
      },
      "execution_count": null,
      "outputs": [
        {
          "output_type": "stream",
          "name": "stdout",
          "text": [
            "N I S H A B h a t i\n"
          ]
        }
      ]
    },
    {
      "cell_type": "markdown",
      "source": [
        "26. Count the number of uppercase letters in a string."
      ],
      "metadata": {
        "id": "wc-SDIBVtL08"
      }
    },
    {
      "cell_type": "code",
      "source": [
        "def count_uppercase(input_string):\n",
        "    uppercase_count = sum(1 for char in input_string if char.isupper())\n",
        "    return uppercase_count\n",
        "\n",
        "# Example input string\n",
        "input_string = \"NISHA123BhatI9053\"\n",
        "result = count_uppercase(input_string)\n",
        "print(result)"
      ],
      "metadata": {
        "colab": {
          "base_uri": "https://localhost:8080/"
        },
        "id": "uLvqgCM_sgJS",
        "outputId": "26db7e77-992d-4bc7-8f95-fc92544f416c"
      },
      "execution_count": null,
      "outputs": [
        {
          "output_type": "stream",
          "name": "stdout",
          "text": [
            "7\n"
          ]
        }
      ]
    },
    {
      "cell_type": "markdown",
      "source": [
        "27. Count the number of lowercase letters in a string."
      ],
      "metadata": {
        "id": "16khsAIAtd0a"
      }
    },
    {
      "cell_type": "code",
      "source": [
        "def count_lowercase(input_string):\n",
        "    lowercase_count = sum(1 for char in input_string if char.islower())\n",
        "    return lowercase_count\n",
        "\n",
        "# Example input string\n",
        "input_string = \"NISHA123BhatI9053\"\n",
        "result = count_lowercase(input_string)\n",
        "print(result)"
      ],
      "metadata": {
        "colab": {
          "base_uri": "https://localhost:8080/"
        },
        "id": "CT1YigimtXa9",
        "outputId": "ebdb516c-06a8-42b7-bce5-7636e49de4cf"
      },
      "execution_count": null,
      "outputs": [
        {
          "output_type": "stream",
          "name": "stdout",
          "text": [
            "3\n"
          ]
        }
      ]
    },
    {
      "cell_type": "markdown",
      "source": [
        "28. Swap the case of each character in a string."
      ],
      "metadata": {
        "id": "vwx0NQlz_sf2"
      }
    },
    {
      "cell_type": "code",
      "source": [
        "def swap_case(input_string):\n",
        "    swapped_string = input_string.swapcase()\n",
        "    return swapped_string\n",
        "\n",
        "# Example input string\n",
        "input_string = \"NISHA123BhatI9053\"\n",
        "result = swap_case(input_string)\n",
        "print(result)"
      ],
      "metadata": {
        "colab": {
          "base_uri": "https://localhost:8080/"
        },
        "id": "Ob2p-cSd_mut",
        "outputId": "f5ceaec7-0367-4c94-9e69-8f1dc2cd9dec"
      },
      "execution_count": null,
      "outputs": [
        {
          "output_type": "stream",
          "name": "stdout",
          "text": [
            "nisha123bHATi9053\n"
          ]
        }
      ]
    },
    {
      "cell_type": "markdown",
      "source": [
        "29. Remove a specific word from a string."
      ],
      "metadata": {
        "id": "Ab-12aXdAPdB"
      }
    },
    {
      "cell_type": "code",
      "source": [
        "def remove_word(input_string, word_to_remove):\n",
        "    words = input_string.split()  # Split the input string into a list of words\n",
        "    filtered_words = [word for word in words if word != word_to_remove]  # Create a new list excluding the word to remove\n",
        "    modified_string = ' '.join(filtered_words)  # Join the filtered words back into a string\n",
        "    return modified_string\n",
        "\n",
        "# Example input string and word to remove\n",
        "input_string = \"Hello world, welcome to the world of programming.\"\n",
        "word_to_remove = \"world\"\n",
        "result = remove_word(input_string, word_to_remove)\n",
        "print(result)"
      ],
      "metadata": {
        "colab": {
          "base_uri": "https://localhost:8080/"
        },
        "id": "M2zy46PxAGXS",
        "outputId": "135f1a21-ae3d-4031-f550-c15c92b9e433"
      },
      "execution_count": null,
      "outputs": [
        {
          "output_type": "stream",
          "name": "stdout",
          "text": [
            "Hello world, welcome to the of programming.\n"
          ]
        }
      ]
    },
    {
      "cell_type": "markdown",
      "source": [
        "30. Check if a string is a valid email address."
      ],
      "metadata": {
        "id": "m-O_2z8xBRsK"
      }
    },
    {
      "cell_type": "code",
      "source": [
        "import re  # Import the regular expression module\n",
        "\n",
        "def is_valid_email(email):\n",
        "    pattern = r'^[\\w\\.-]+@[\\w\\.-]+\\.\\w+$'  # Regular expression pattern for a basic email validation\n",
        "    if re.match(pattern, email):\n",
        "        return True\n",
        "    else:\n",
        "        return False\n",
        "\n",
        "# Example email addresses\n",
        "email1 = \"abc@email.com\"\n",
        "email2 = \"abcemail\"\n",
        "result1 = is_valid_email(email1)\n",
        "result2 = is_valid_email(email2)\n",
        "print(result1)\n",
        "print(result2)"
      ],
      "metadata": {
        "colab": {
          "base_uri": "https://localhost:8080/"
        },
        "id": "0JYHgwpOAT3u",
        "outputId": "34a577c3-5d76-465a-d717-35f834a8303b"
      },
      "execution_count": null,
      "outputs": [
        {
          "output_type": "stream",
          "name": "stdout",
          "text": [
            "True\n",
            "False\n"
          ]
        }
      ]
    },
    {
      "cell_type": "markdown",
      "source": [
        "31. Extract the username from an email address string."
      ],
      "metadata": {
        "id": "GOPwoSXpBysj"
      }
    },
    {
      "cell_type": "code",
      "source": [
        "def extract_username(email):\n",
        "    username = email.split('@')[0]  # Split the email address at \"@\" and take the first part\n",
        "    return username\n",
        "\n",
        "# Example email address\n",
        "email = \"abc@email.com\"\n",
        "result = extract_username(email)\n",
        "print(result)"
      ],
      "metadata": {
        "colab": {
          "base_uri": "https://localhost:8080/"
        },
        "id": "GBUk-n1oBYSD",
        "outputId": "dbf5bb10-e041-4148-c8c2-5853b3b6f775"
      },
      "execution_count": null,
      "outputs": [
        {
          "output_type": "stream",
          "name": "stdout",
          "text": [
            "abc\n"
          ]
        }
      ]
    },
    {
      "cell_type": "markdown",
      "source": [
        "32. Extract the domain name from an email address string."
      ],
      "metadata": {
        "id": "u3c7SVEwCEjz"
      }
    },
    {
      "cell_type": "code",
      "source": [
        "def extract_domain(email):\n",
        "    domain = email.split('@')[1]  # Split the email address at \"@\" and take the second part\n",
        "    return domain\n",
        "\n",
        "# Example email address\n",
        "email = \"abcdef@email.in\"\n",
        "result = extract_domain(email)\n",
        "print(result)"
      ],
      "metadata": {
        "colab": {
          "base_uri": "https://localhost:8080/"
        },
        "id": "4lODJR5HB44-",
        "outputId": "0a757838-9741-49e8-b841-be052b520b35"
      },
      "execution_count": null,
      "outputs": [
        {
          "output_type": "stream",
          "name": "stdout",
          "text": [
            "email.in\n"
          ]
        }
      ]
    },
    {
      "cell_type": "markdown",
      "source": [
        "33. Replace multiple spaces in a string with a single space."
      ],
      "metadata": {
        "id": "w5zpcpweCdnN"
      }
    },
    {
      "cell_type": "code",
      "source": [
        "def replace_multiple_spaces(input_string):\n",
        "    cleaned_string = ' '.join(input_string.split())  # Split the string at spaces and then join using a single space\n",
        "    return cleaned_string\n",
        "\n",
        "# Example input string with multiple spaces\n",
        "input_string = \"Hello     world!   How   are   you?\"\n",
        "result = replace_multiple_spaces(input_string)\n",
        "print(result)"
      ],
      "metadata": {
        "colab": {
          "base_uri": "https://localhost:8080/"
        },
        "id": "OL8EtFZwCXAN",
        "outputId": "ad6d9f92-fbe2-4d70-e6b2-c27bbb6516ca"
      },
      "execution_count": null,
      "outputs": [
        {
          "output_type": "stream",
          "name": "stdout",
          "text": [
            "Hello world! How are you?\n"
          ]
        }
      ]
    },
    {
      "cell_type": "markdown",
      "source": [
        "34. Check if a string is a valid URL."
      ],
      "metadata": {
        "id": "jrz80650CpOK"
      }
    },
    {
      "cell_type": "code",
      "source": [
        "from urllib.parse import urlparse\n",
        "\n",
        "def is_valid_url(url):\n",
        "    try:\n",
        "        result = urlparse(url)\n",
        "        return all([result.scheme, result.netloc])  # Check if both scheme and netloc are present\n",
        "    except ValueError:\n",
        "        return False\n",
        "\n",
        "# Example URLs\n",
        "url1 = \"https://www.example.com\"\n",
        "url2 = \"invalid-url\"\n",
        "result1 = is_valid_url(url1)\n",
        "result2 = is_valid_url(url2)\n",
        "print(result1)  # Should print True\n",
        "print(result2)  # Should print False"
      ],
      "metadata": {
        "colab": {
          "base_uri": "https://localhost:8080/"
        },
        "id": "-RAQvaAHCiS5",
        "outputId": "8fe874f4-9093-4fef-8d24-e6ab3dc49215"
      },
      "execution_count": null,
      "outputs": [
        {
          "output_type": "stream",
          "name": "stdout",
          "text": [
            "True\n",
            "False\n"
          ]
        }
      ]
    },
    {
      "cell_type": "markdown",
      "source": [
        "35. Extract the protocol (http or https) from a URL string."
      ],
      "metadata": {
        "id": "dxzEDHjPGILp"
      }
    },
    {
      "cell_type": "code",
      "source": [
        "def extract_protocol(url):\n",
        "    # Find the index of the first occurrence of \"://\"\n",
        "    protocol_end = url.find(\"://\")\n",
        "\n",
        "    if protocol_end != -1:\n",
        "        # Extract the protocol from the URL\n",
        "        protocol = url[:protocol_end]\n",
        "        return protocol\n",
        "    else:\n",
        "        return None\n",
        "\n",
        "# Example URL strings\n",
        "url1 = \"https://www.example.com\"\n",
        "url2 = \"http://google.com\"\n",
        "url3 = \"ftp://ftp.example.com\"\n",
        "\n",
        "# Extract protocols\n",
        "protocol1 = extract_protocol(url1)\n",
        "protocol2 = extract_protocol(url2)\n",
        "protocol3 = extract_protocol(url3)\n",
        "\n",
        "# Print extracted protocols\n",
        "print(\"Protocol 1:\", protocol1)\n",
        "print(\"Protocol 2:\", protocol2)\n",
        "print(\"Protocol 3:\", protocol3)"
      ],
      "metadata": {
        "colab": {
          "base_uri": "https://localhost:8080/"
        },
        "id": "dlh1edyGCsP7",
        "outputId": "f8d01277-bc14-4a92-9119-9f729d58c483"
      },
      "execution_count": null,
      "outputs": [
        {
          "output_type": "stream",
          "name": "stdout",
          "text": [
            "Protocol 1: https\n",
            "Protocol 2: http\n",
            "Protocol 3: ftp\n"
          ]
        }
      ]
    },
    {
      "cell_type": "markdown",
      "source": [
        "6. Find the frequency of each character in a string."
      ],
      "metadata": {
        "id": "IM00vohTG27m"
      }
    },
    {
      "cell_type": "code",
      "source": [
        "def character_frequency(input_string):\n",
        "    frequency = {}  # Create an empty dictionary to store character frequencies\n",
        "\n",
        "    for char in input_string:\n",
        "        if char in frequency:\n",
        "            frequency[char] += 1  # Increment the frequency count if the character is already in the dictionary\n",
        "        else:\n",
        "            frequency[char] = 1   # Initialize the frequency count to 1 if the character is not in the dictionary\n",
        "\n",
        "    return frequency\n",
        "\n",
        "# Example string\n",
        "input_str = \"Hello world, welcome to the world of programming.\"\n",
        "\n",
        "# Calculate character frequencies\n",
        "char_freq = character_frequency(input_str)\n",
        "\n",
        "# Print character frequencies\n",
        "for char, freq in char_freq.items():\n",
        "    print(f\"Character: '{char}', Frequency: {freq}\")"
      ],
      "metadata": {
        "colab": {
          "base_uri": "https://localhost:8080/"
        },
        "id": "pWtW0q5qGMTW",
        "outputId": "996ba1ca-45b3-4a8a-f68d-6b0c48f09b6d"
      },
      "execution_count": null,
      "outputs": [
        {
          "output_type": "stream",
          "name": "stdout",
          "text": [
            "Character: 'H', Frequency: 1\n",
            "Character: 'e', Frequency: 4\n",
            "Character: 'l', Frequency: 5\n",
            "Character: 'o', Frequency: 7\n",
            "Character: ' ', Frequency: 7\n",
            "Character: 'w', Frequency: 3\n",
            "Character: 'r', Frequency: 4\n",
            "Character: 'd', Frequency: 2\n",
            "Character: ',', Frequency: 1\n",
            "Character: 'c', Frequency: 1\n",
            "Character: 'm', Frequency: 3\n",
            "Character: 't', Frequency: 2\n",
            "Character: 'h', Frequency: 1\n",
            "Character: 'f', Frequency: 1\n",
            "Character: 'p', Frequency: 1\n",
            "Character: 'g', Frequency: 2\n",
            "Character: 'a', Frequency: 1\n",
            "Character: 'i', Frequency: 1\n",
            "Character: 'n', Frequency: 1\n",
            "Character: '.', Frequency: 1\n"
          ]
        }
      ]
    },
    {
      "cell_type": "markdown",
      "source": [
        "37. Remove all punctuation from a string."
      ],
      "metadata": {
        "id": "oY0NIutfyjk5"
      }
    },
    {
      "cell_type": "code",
      "source": [
        "import string\n",
        "\n",
        "def remove_punctuation(input_string):\n",
        "    # Create a translation table to remove punctuation\n",
        "    translator = str.maketrans(\"\", \"\", string.punctuation)\n",
        "\n",
        "    # Use the translation table to remove punctuation from the input string\n",
        "    clean_string = input_string.translate(translator)\n",
        "\n",
        "    return clean_string\n",
        "\n",
        "# Example string with punctuation\n",
        "input_str = \"Hello, world! How's it going?\"\n",
        "\n",
        "# Remove punctuation\n",
        "cleaned_str = remove_punctuation(input_str)\n",
        "\n",
        "# Print the cleaned string\n",
        "print(\"Original string:\", input_str)\n",
        "print(\"Cleaned string:\", cleaned_str)"
      ],
      "metadata": {
        "colab": {
          "base_uri": "https://localhost:8080/"
        },
        "id": "Ag7RXQQjG5cz",
        "outputId": "09e6e885-26d5-49b2-9394-879a81cc9cdd"
      },
      "execution_count": null,
      "outputs": [
        {
          "output_type": "stream",
          "name": "stdout",
          "text": [
            "Original string: Hello, world! How's it going?\n",
            "Cleaned string: Hello world Hows it going\n"
          ]
        }
      ]
    },
    {
      "cell_type": "markdown",
      "source": [
        "38. Check if a string contains only digits."
      ],
      "metadata": {
        "id": "BSI9LKeJ1liR"
      }
    },
    {
      "cell_type": "code",
      "source": [
        "def contains_only_digits(input_string):\n",
        "    # Check if all characters in the string are digits\n",
        "    return input_string.isdigit()\n",
        "\n",
        "# Example strings\n",
        "string1 = \"12345\"\n",
        "string2 = \"Hello123\"\n",
        "string3 = \"456.789\"\n",
        "\n",
        "# Check if strings contain only digits\n",
        "result1 = contains_only_digits(string1)\n",
        "result2 = contains_only_digits(string2)\n",
        "result3 = contains_only_digits(string3)\n",
        "\n",
        "# Print the results\n",
        "print(f\"'{string1}' contains only digits:\", result1)\n",
        "print(f\"'{string2}' contains only digits:\", result2)\n",
        "print(f\"'{string3}' contains only digits:\", result3)"
      ],
      "metadata": {
        "colab": {
          "base_uri": "https://localhost:8080/"
        },
        "id": "-395--W4yq2l",
        "outputId": "3dd5c5d9-5a9e-4d21-9009-d63d54e36a9d"
      },
      "execution_count": null,
      "outputs": [
        {
          "output_type": "stream",
          "name": "stdout",
          "text": [
            "'12345' contains only digits: True\n",
            "'Hello123' contains only digits: False\n",
            "'456.789' contains only digits: False\n"
          ]
        }
      ]
    },
    {
      "cell_type": "markdown",
      "source": [
        "39. Check if a string contains only alphabets."
      ],
      "metadata": {
        "id": "CggPerHV2HVT"
      }
    },
    {
      "cell_type": "code",
      "source": [
        "def contains_only_alphabets(input_string):\n",
        "    # Check if all characters in the string are alphabetic\n",
        "    return input_string.isalpha()\n",
        "\n",
        "# Example strings\n",
        "string1 = \"Hello\"\n",
        "string2 = \"Hello123\"\n",
        "string3 = \"12345\"\n",
        "\n",
        "# Check if strings contain only alphabets\n",
        "result1 = contains_only_alphabets(string1)\n",
        "result2 = contains_only_alphabets(string2)\n",
        "result3 = contains_only_alphabets(string3)\n",
        "\n",
        "# Print the results\n",
        "print(f\"'{string1}' contains only alphabets:\", result1)\n",
        "print(f\"'{string2}' contains only alphabets:\", result2)\n",
        "print(f\"'{string3}' contains only alphabets:\", result3)"
      ],
      "metadata": {
        "colab": {
          "base_uri": "https://localhost:8080/"
        },
        "id": "9RRz5_Py1w2A",
        "outputId": "9208bd74-682f-4265-ae28-1aff4a7d487c"
      },
      "execution_count": null,
      "outputs": [
        {
          "output_type": "stream",
          "name": "stdout",
          "text": [
            "'Hello' contains only alphabets: True\n",
            "'Hello123' contains only alphabets: False\n",
            "'12345' contains only alphabets: False\n"
          ]
        }
      ]
    },
    {
      "cell_type": "markdown",
      "source": [
        "40. Convert a string to a list of characters."
      ],
      "metadata": {
        "id": "3q8yjnqo2Q66"
      }
    },
    {
      "cell_type": "code",
      "source": [
        "def string_to_list(input_string):\n",
        "    # Use list() constructor to convert the string to a list of characters\n",
        "    char_list = list(input_string)\n",
        "    return char_list\n",
        "\n",
        "# Example string\n",
        "input_str = \"Hello, world!\"\n",
        "\n",
        "# Convert the string to a list of characters\n",
        "char_list = string_to_list(input_str)\n",
        "\n",
        "# Print the list of characters\n",
        "print(\"Original string:\", input_str)\n",
        "print(\"List of characters:\", char_list)"
      ],
      "metadata": {
        "colab": {
          "base_uri": "https://localhost:8080/"
        },
        "id": "Jf9wqr7v2KLI",
        "outputId": "817f33a3-06dd-4d2d-a911-eae58c40436b"
      },
      "execution_count": null,
      "outputs": [
        {
          "output_type": "stream",
          "name": "stdout",
          "text": [
            "Original string: Hello, world!\n",
            "List of characters: ['H', 'e', 'l', 'l', 'o', ',', ' ', 'w', 'o', 'r', 'l', 'd', '!']\n"
          ]
        }
      ]
    },
    {
      "cell_type": "markdown",
      "source": [
        "41. Check if two strings are anagrams."
      ],
      "metadata": {
        "id": "ZgnO0-Sg4uNy"
      }
    },
    {
      "cell_type": "code",
      "source": [
        "def are_anagrams(str1, str2):\n",
        "    # Remove spaces and convert strings to lowercase for accurate comparison\n",
        "    str1 = str1.replace(\" \", \"\").lower()\n",
        "    str2 = str2.replace(\" \", \"\").lower()\n",
        "\n",
        "    # Sort the characters in both strings and compare\n",
        "    return sorted(str1) == sorted(str2)\n",
        "\n",
        "# Example strings\n",
        "string1 = \"listen\"\n",
        "string2 = \"silent\"\n",
        "string3 = \"hello\"\n",
        "string4 = \"kitty\"\n",
        "\n",
        "# Check if strings are anagrams\n",
        "result1 = are_anagrams(string1, string2)\n",
        "result2 = are_anagrams(string3, string4)\n",
        "\n",
        "# Print the results\n",
        "print(f\"'{string1}' and '{string2}' are anagrams:\", result1)\n",
        "print(f\"'{string3}' and '{string4}' are anagrams:\", result2)"
      ],
      "metadata": {
        "colab": {
          "base_uri": "https://localhost:8080/"
        },
        "id": "5fjtcnwD2WNx",
        "outputId": "3fb917af-e824-4904-db1e-e21b2c9ed123"
      },
      "execution_count": null,
      "outputs": [
        {
          "output_type": "stream",
          "name": "stdout",
          "text": [
            "'listen' and 'silent' are anagrams: True\n",
            "'hello' and 'kitty' are anagrams: False\n"
          ]
        }
      ]
    },
    {
      "cell_type": "markdown",
      "source": [
        "42. Encode a string using a Caesar cipher."
      ],
      "metadata": {
        "id": "XVMDOtEv5hSM"
      }
    },
    {
      "cell_type": "code",
      "source": [
        "# Define a function named caesar_cipher that encodes a string using a Caesar cipher.\n",
        "def caesar_cipher(text, shift):\n",
        "  \"\"\"\n",
        "  Encodes a string using a Caesar cipher.\n",
        "\n",
        "  Args:\n",
        "    text: The string to encode.\n",
        "    shift: The number of positions to shift each letter.\n",
        "\n",
        "  Returns:\n",
        "    The encoded string.\n",
        "  \"\"\"\n",
        "\n",
        "  # Initialize an empty string to store the encoded text.\n",
        "  encoded_text = \"\"\n",
        "\n",
        "  # Iterate through each character in the input text.\n",
        "  for char in text:\n",
        "    # Check if the character is alphabetic.\n",
        "    if char.isalpha():\n",
        "      # Calculate the encoded character's Unicode code point value by shifting it by the specified amount.\n",
        "      # Ensure the value wraps around within the lowercase alphabet range (a-z).\n",
        "      encoded_char = chr((ord(char) + shift - ord('a')) % 26 + ord('a'))\n",
        "    else:\n",
        "      # Keep non-alphabetic characters unchanged.\n",
        "      encoded_char = char\n",
        "\n",
        "    # Add the encoded character to the encoded text.\n",
        "    encoded_text += encoded_char\n",
        "\n",
        "  # Return the resulting encoded text.\n",
        "  return encoded_text\n",
        "\n",
        "# Define the input text and the shift value for encoding.\n",
        "text = \"bello, kitty!\"\n",
        "shift = 3\n",
        "\n",
        "# Call the caesar_cipher function to encode the text using the specified shift.\n",
        "encoded_text = caesar_cipher(text, shift)\n",
        "\n",
        "# Print the encoded text.\n",
        "print(\"Encoded text:\", encoded_text)"
      ],
      "metadata": {
        "colab": {
          "base_uri": "https://localhost:8080/"
        },
        "id": "RL58UFf-5bZ4",
        "outputId": "dc1682c4-245b-4a0e-87bc-b3b93e350798"
      },
      "execution_count": null,
      "outputs": [
        {
          "output_type": "stream",
          "name": "stdout",
          "text": [
            "Encoded text: ehoor, nlwwb!\n"
          ]
        }
      ]
    },
    {
      "cell_type": "markdown",
      "source": [
        "43. Decode a Caesar cipher encoded string."
      ],
      "metadata": {
        "id": "6CPVNJVo7DAE"
      }
    },
    {
      "cell_type": "code",
      "source": [
        "# Define a function to decode a string using a Caesar cipher\n",
        "def caesar_cipher_decoder(text, shift):\n",
        "    \"\"\"\n",
        "    Decodes a string using a Caesar cipher.\n",
        "\n",
        "    Args:\n",
        "        text: The string to decode.\n",
        "        shift: The number of positions to shift each letter.\n",
        "\n",
        "    Returns:\n",
        "        The decoded string.\n",
        "    \"\"\"\n",
        "\n",
        "    # Initialize an empty string to store the decoded text\n",
        "    decoded_text = \"\"\n",
        "\n",
        "    # Loop through each character in the input text\n",
        "    for char in text:\n",
        "        # Check if the character is an alphabetic character\n",
        "        if char.isalpha():\n",
        "            # Calculate the decoded character using the shift value\n",
        "            decoded_char = chr((ord(char) - shift - ord('a')) % 26 + ord('a'))\n",
        "        else:\n",
        "            # If the character is not alphabetic, keep it unchanged\n",
        "            decoded_char = char\n",
        "\n",
        "        # Add the decoded character to the decoded text\n",
        "        decoded_text += decoded_char\n",
        "\n",
        "    # Return the fully decoded text\n",
        "    return decoded_text\n",
        "\n",
        "# Example input\n",
        "text = \"ehoor, nlwwb!\"\n",
        "shift = 3\n",
        "\n",
        "# Call the caesar_cipher_decoder function to decode the input text\n",
        "decoded_text = caesar_cipher_decoder(text, shift)\n",
        "\n",
        "# Print the decoded text\n",
        "print(\"Decoded text:\", decoded_text)"
      ],
      "metadata": {
        "colab": {
          "base_uri": "https://localhost:8080/"
        },
        "id": "fBYj8BZq7B9R",
        "outputId": "37bf04fd-41ab-401b-82ae-a893fd5f3327"
      },
      "execution_count": null,
      "outputs": [
        {
          "output_type": "stream",
          "name": "stdout",
          "text": [
            "Decoded text: bello, kitty!\n"
          ]
        }
      ]
    },
    {
      "cell_type": "markdown",
      "source": [
        "\n",
        "44. Find the most frequent word in a string."
      ],
      "metadata": {
        "id": "rnhqVv_77q1m"
      }
    },
    {
      "cell_type": "code",
      "source": [
        "import re\n",
        "from collections import Counter\n",
        "\n",
        "def most_frequent_word(input_string):\n",
        "    # Remove punctuation and convert to lowercase\n",
        "    clean_string = re.sub(r'[^\\w\\s]', '', input_string).lower()\n",
        "\n",
        "    # Split the string into words\n",
        "    words = clean_string.split()\n",
        "\n",
        "    # Use Counter to count word frequencies\n",
        "    word_counter = Counter(words)\n",
        "\n",
        "    # Find the most common word\n",
        "    most_common_word = word_counter.most_common(1)[0][0]\n",
        "\n",
        "    return most_common_word\n",
        "\n",
        "# Example string\n",
        "input_str = \"Hello world, hello there! How's the world?\"\n",
        "\n",
        "# Find the most frequent word\n",
        "most_common = most_frequent_word(input_str)\n",
        "\n",
        "# Print the result\n",
        "print(\"Most frequent word:\", most_common)"
      ],
      "metadata": {
        "colab": {
          "base_uri": "https://localhost:8080/"
        },
        "id": "a1ARhgkZ7adG",
        "outputId": "e8becf51-3daa-4f1b-86cb-e155fd9a91f4"
      },
      "execution_count": null,
      "outputs": [
        {
          "output_type": "stream",
          "name": "stdout",
          "text": [
            "Most frequent word: hello\n"
          ]
        }
      ]
    },
    {
      "cell_type": "markdown",
      "source": [
        "45. Find all unique words in a string."
      ],
      "metadata": {
        "id": "s6nTDZiL8Ho0"
      }
    },
    {
      "cell_type": "code",
      "source": [
        "import re\n",
        "\n",
        "def unique_words(input_string):\n",
        "    # Remove punctuation and convert to lowercase\n",
        "    clean_string = re.sub(r'[^\\w\\s]', '', input_string).lower()\n",
        "\n",
        "    # Split the string into words and convert to a set for uniqueness\n",
        "    words = set(clean_string.split())\n",
        "\n",
        "    return words\n",
        "\n",
        "# Example string\n",
        "input_str = \"Hello world, hello there! How's the world?\"\n",
        "\n",
        "# Find unique words\n",
        "unique_word_set = unique_words(input_str)\n",
        "\n",
        "# Print the result\n",
        "print(\"Unique words:\", unique_word_set)"
      ],
      "metadata": {
        "colab": {
          "base_uri": "https://localhost:8080/"
        },
        "id": "HQTSqx1a7z_V",
        "outputId": "61443171-57b2-46b3-bfcc-9143e99e74aa"
      },
      "execution_count": null,
      "outputs": [
        {
          "output_type": "stream",
          "name": "stdout",
          "text": [
            "Unique words: {'world', 'there', 'the', 'hello', 'hows'}\n"
          ]
        }
      ]
    },
    {
      "cell_type": "markdown",
      "source": [
        "46. Count the number of syllables in a string."
      ],
      "metadata": {
        "id": "9iUww8k18x09"
      }
    },
    {
      "cell_type": "code",
      "source": [
        "import re\n",
        "\n",
        "def count_syllables(word):\n",
        "    # Count vowel groups using regular expression\n",
        "    vowel_groups = re.findall(r'[aeiouy]+', word, re.IGNORECASE)\n",
        "\n",
        "    return len(vowel_groups)\n",
        "\n",
        "# Example words\n",
        "word1 = \"hello\"\n",
        "word2 = \"banana\"\n",
        "word3 = \"syllable\"\n",
        "\n",
        "# Count syllables\n",
        "syllables1 = count_syllables(word1)\n",
        "syllables2 = count_syllables(word2)\n",
        "syllables3 = count_syllables(word3)\n",
        "\n",
        "# Print the results\n",
        "print(f\"'{word1}' has {syllables1} syllables.\")\n",
        "print(f\"'{word2}' has {syllables2} syllables.\")\n",
        "print(f\"'{word3}' has {syllables3} syllables.\")"
      ],
      "metadata": {
        "colab": {
          "base_uri": "https://localhost:8080/"
        },
        "id": "LAuHkAuT8Q9Q",
        "outputId": "15788734-0d05-4859-cc84-37ef5c9eb909"
      },
      "execution_count": null,
      "outputs": [
        {
          "output_type": "stream",
          "name": "stdout",
          "text": [
            "'hello' has 2 syllables.\n",
            "'banana' has 3 syllables.\n",
            "'syllable' has 3 syllables.\n"
          ]
        }
      ]
    },
    {
      "cell_type": "markdown",
      "source": [
        "47. Check if a string contains any special characters."
      ],
      "metadata": {
        "id": "n1jYNKiM9eh6"
      }
    },
    {
      "cell_type": "code",
      "source": [
        "import re\n",
        "\n",
        "def contains_special_characters(input_string):\n",
        "    # Define a regular expression pattern to match special characters\n",
        "    pattern = re.compile(r'[!@#$%^&*()_+{}\\[\\]:;<>,.?~\\\\/]')\n",
        "\n",
        "    # Use the search() method to find a match\n",
        "    match = pattern.search(input_string)\n",
        "\n",
        "    # Return True if a match is found, False otherwise\n",
        "    return bool(match)\n",
        "\n",
        "# Example strings\n",
        "string1 = \"Hello, world!\"\n",
        "string2 = \"This is a test\"\n",
        "string3 = \"Special@Characters\"\n",
        "\n",
        "# Check if strings contain special characters\n",
        "result1 = contains_special_characters(string1)\n",
        "result2 = contains_special_characters(string2)\n",
        "result3 = contains_special_characters(string3)\n",
        "\n",
        "# Print the results\n",
        "print(f\"'{string1}' contains special characters:\", result1)\n",
        "print(f\"'{string2}' contains special characters:\", result2)\n",
        "print(f\"'{string3}' contains special characters:\", result3)"
      ],
      "metadata": {
        "colab": {
          "base_uri": "https://localhost:8080/"
        },
        "id": "I9WxDib381Bj",
        "outputId": "841aed0a-1543-4acf-b4e2-2c6b51d17203"
      },
      "execution_count": null,
      "outputs": [
        {
          "output_type": "stream",
          "name": "stdout",
          "text": [
            "'Hello, world!' contains special characters: True\n",
            "'This is a test' contains special characters: False\n",
            "'Special@Characters' contains special characters: True\n"
          ]
        }
      ]
    },
    {
      "cell_type": "markdown",
      "source": [
        "48. Remove the nth word from a string."
      ],
      "metadata": {
        "id": "1CrbannN97ya"
      }
    },
    {
      "cell_type": "code",
      "source": [
        "def remove_nth_word(input_string, n):\n",
        "    # Split the input string into words\n",
        "    words = input_string.split()\n",
        "\n",
        "    # Check if n is within a valid range\n",
        "    if n >= 1 and n <= len(words):\n",
        "        # Remove the nth word by excluding it from the words list\n",
        "        removed_word = words.pop(n - 1)\n",
        "\n",
        "        # Join the remaining words to form the modified string\n",
        "        modified_string = ' '.join(words)\n",
        "\n",
        "        return modified_string, removed_word\n",
        "    else:\n",
        "        return None, None\n",
        "\n",
        "# Example string and n value\n",
        "input_str = \"This is an example sentence to test the function.\"\n",
        "n_value = 6\n",
        "\n",
        "# Remove the nth word\n",
        "modified_str, removed_word = remove_nth_word(input_str, n_value)\n",
        "\n",
        "# Print the results\n",
        "print(\"Original string:\", input_str)\n",
        "if modified_str is not None:\n",
        "    print(\"Modified string:\", modified_str)\n",
        "    print(\"Removed word:\", removed_word)\n",
        "else:\n",
        "    print(\"Invalid n value.\")"
      ],
      "metadata": {
        "colab": {
          "base_uri": "https://localhost:8080/"
        },
        "id": "iGbJoSKI9nLX",
        "outputId": "66e32056-34f8-44c4-83c1-86cedc58ff6f"
      },
      "execution_count": null,
      "outputs": [
        {
          "output_type": "stream",
          "name": "stdout",
          "text": [
            "Original string: This is an example sentence to test the function.\n",
            "Modified string: This is an example sentence test the function.\n",
            "Removed word: to\n"
          ]
        }
      ]
    },
    {
      "cell_type": "markdown",
      "source": [
        "49. Insert a word at the nth position in a string."
      ],
      "metadata": {
        "id": "vtcNeN5G-bjl"
      }
    },
    {
      "cell_type": "code",
      "source": [],
      "metadata": {
        "id": "QZra1C0z-G2e"
      },
      "execution_count": null,
      "outputs": []
    },
    {
      "cell_type": "markdown",
      "source": [
        "50. Convert a CSV string to a list of lists."
      ],
      "metadata": {
        "id": "dHdYyJeUAYfS"
      }
    },
    {
      "cell_type": "code",
      "source": [
        "def csv_string_to_list(csv_string):\n",
        "    # Split the CSV string into lines\n",
        "    lines = csv_string.split('\\n')\n",
        "\n",
        "    # Initialize an empty list to store the result\n",
        "    result = []\n",
        "\n",
        "    for line in lines:\n",
        "        # Split each line into fields using comma as the delimiter\n",
        "        fields = line.split(',')\n",
        "\n",
        "        # Append the fields to the result list as a row\n",
        "        result.append(fields)\n",
        "\n",
        "    return result\n",
        "\n",
        "# Example CSV string\n",
        "csv_data = \"Name, Age, Country\\nJohn, 25, USA\\nAlice, 30, Canada\\nBob, 22, UK\"\n",
        "\n",
        "# Convert CSV string to a list of lists\n",
        "list_of_lists = csv_string_to_list(csv_data)\n",
        "\n",
        "# Print the result\n",
        "for row in list_of_lists:\n",
        "    print(row)"
      ],
      "metadata": {
        "colab": {
          "base_uri": "https://localhost:8080/"
        },
        "id": "J1y2rJe-Afjk",
        "outputId": "0e21736c-a654-417d-f21c-98353e764dac"
      },
      "execution_count": null,
      "outputs": [
        {
          "output_type": "stream",
          "name": "stdout",
          "text": [
            "['Name', ' Age', ' Country']\n",
            "['John', ' 25', ' USA']\n",
            "['Alice', ' 30', ' Canada']\n",
            "['Bob', ' 22', ' UK']\n"
          ]
        }
      ]
    },
    {
      "cell_type": "markdown",
      "source": [
        "## **List based practice problem :**\n",
        "\n",
        "1. create a list with integers frim 1 to 10"
      ],
      "metadata": {
        "id": "FzV9HIylBMS8"
      }
    },
    {
      "cell_type": "code",
      "source": [
        "# Use a list comprehension to create a list of integers from 1 to 10\n",
        "integer_list = [i for i in range(1, 11)]\n",
        "\n",
        "# Print the list\n",
        "print(integer_list)"
      ],
      "metadata": {
        "colab": {
          "base_uri": "https://localhost:8080/"
        },
        "id": "C-L6B9bCAivy",
        "outputId": "39af9669-66f7-4db2-ab2e-c5dd6f241bff"
      },
      "execution_count": null,
      "outputs": [
        {
          "output_type": "stream",
          "name": "stdout",
          "text": [
            "[1, 2, 3, 4, 5, 6, 7, 8, 9, 10]\n"
          ]
        }
      ]
    },
    {
      "cell_type": "markdown",
      "source": [
        "2. Find the length of a list without using the len() function."
      ],
      "metadata": {
        "id": "ORxKo2kwBtxK"
      }
    },
    {
      "cell_type": "code",
      "source": [
        "def custom_len(input_list):\n",
        "    count = 0\n",
        "    for _ in input_list:\n",
        "        count += 1\n",
        "    return count\n",
        "\n",
        "# Example list\n",
        "my_list = [10, 20, 30, 40, 50, 60]\n",
        "\n",
        "# Find the length of the list using the custom_len function\n",
        "length = custom_len(my_list)\n",
        "\n",
        "# Print the length of the list\n",
        "print(\"Length of the list:\", length)"
      ],
      "metadata": {
        "colab": {
          "base_uri": "https://localhost:8080/"
        },
        "id": "1AmGsBYzBoTP",
        "outputId": "b35ab6bf-87b3-4938-c63a-66cdede21569"
      },
      "execution_count": null,
      "outputs": [
        {
          "output_type": "stream",
          "name": "stdout",
          "text": [
            "Length of the list: 6\n"
          ]
        }
      ]
    },
    {
      "cell_type": "markdown",
      "source": [
        "3. Append an element to the end of a list."
      ],
      "metadata": {
        "id": "3jKsqmH6DpYr"
      }
    },
    {
      "cell_type": "code",
      "source": [
        "# Example list\n",
        "my_list = [10, 20, 30]\n",
        "\n",
        "# Element to append\n",
        "new_element = 40\n",
        "\n",
        "# Append the new element to the end of the list\n",
        "my_list.append(new_element)\n",
        "\n",
        "# Print the updated list\n",
        "print(\"Updated list:\", my_list)"
      ],
      "metadata": {
        "colab": {
          "base_uri": "https://localhost:8080/"
        },
        "id": "0JWPEksaBzl7",
        "outputId": "9b9317f7-b5df-4572-c1f8-9762b47bc542"
      },
      "execution_count": null,
      "outputs": [
        {
          "output_type": "stream",
          "name": "stdout",
          "text": [
            "Updated list: [10, 20, 30, 40]\n"
          ]
        }
      ]
    },
    {
      "cell_type": "markdown",
      "source": [
        "4. Insert an element at a specific index in a list."
      ],
      "metadata": {
        "id": "jFEsuBC7D49R"
      }
    },
    {
      "cell_type": "code",
      "source": [
        "# Example list\n",
        "my_list = [10, 20, 30, 40, 50]\n",
        "\n",
        "# Element to insert\n",
        "new_element = 80\n",
        "\n",
        "# Index at which to insert the element\n",
        "index_to_insert = 3\n",
        "\n",
        "# Insert the new element at the specified index\n",
        "my_list.insert(index_to_insert, new_element)\n",
        "\n",
        "# Print the updated list\n",
        "print(\"Updated list:\", my_list)"
      ],
      "metadata": {
        "colab": {
          "base_uri": "https://localhost:8080/"
        },
        "id": "LXA_CG_JDwFv",
        "outputId": "1f11853c-25a9-42fc-fc8a-30d00db987e1"
      },
      "execution_count": null,
      "outputs": [
        {
          "output_type": "stream",
          "name": "stdout",
          "text": [
            "Updated list: [10, 20, 30, 80, 40, 50]\n"
          ]
        }
      ]
    },
    {
      "cell_type": "markdown",
      "source": [
        "5. Remove an element from a list by its value."
      ],
      "metadata": {
        "id": "7sazwi-_ERp7"
      }
    },
    {
      "cell_type": "code",
      "source": [
        "# Example list\n",
        "my_list = [10, 20, 30, 40, 50]\n",
        "\n",
        "# Element to remove\n",
        "element_to_remove = 40\n",
        "\n",
        "# Remove the element by its value\n",
        "my_list.remove(element_to_remove)\n",
        "\n",
        "# Print the updated list\n",
        "print(\"Updated list:\", my_list)"
      ],
      "metadata": {
        "colab": {
          "base_uri": "https://localhost:8080/"
        },
        "id": "Ezh55JfrEIdK",
        "outputId": "278b180a-161c-49c0-d6ac-46517e8532c1"
      },
      "execution_count": null,
      "outputs": [
        {
          "output_type": "stream",
          "name": "stdout",
          "text": [
            "Updated list: [10, 20, 30, 50]\n"
          ]
        }
      ]
    },
    {
      "cell_type": "markdown",
      "source": [
        "6. Remove an element from a list by its index."
      ],
      "metadata": {
        "id": "OoSkDeCfE8it"
      }
    },
    {
      "cell_type": "code",
      "source": [
        "# Example list\n",
        "my_list = [10, 20, 30, 40, 50]\n",
        "\n",
        "# Index of the element to remove\n",
        "index_to_remove = 4\n",
        "\n",
        "# Remove the element at the specified index\n",
        "removed_element = my_list.pop(index_to_remove)\n",
        "\n",
        "# Print the updated list and the removed element\n",
        "print(\"Updated list:\", my_list)\n",
        "print(\"Removed element:\", removed_element)"
      ],
      "metadata": {
        "colab": {
          "base_uri": "https://localhost:8080/"
        },
        "id": "--zBYkikEWXe",
        "outputId": "54afaf08-da8f-4bee-8588-df45c39e0dd6"
      },
      "execution_count": null,
      "outputs": [
        {
          "output_type": "stream",
          "name": "stdout",
          "text": [
            "Updated list: [10, 20, 30, 40]\n",
            "Removed element: 50\n"
          ]
        }
      ]
    },
    {
      "cell_type": "markdown",
      "source": [
        "7. Check if an element exists in a list."
      ],
      "metadata": {
        "id": "mQCtQPXjFnLq"
      }
    },
    {
      "cell_type": "code",
      "source": [
        "# Example list\n",
        "my_list = [10, 20, 30, 40, 50]\n",
        "\n",
        "# Element to check\n",
        "element_to_check = 20\n",
        "\n",
        "# Check if the element exists in the list\n",
        "if element_to_check in my_list:\n",
        "    print(f\"{element_to_check} exists in the list.\")\n",
        "else:\n",
        "    print(f\"{element_to_check} does not exist in the list.\")"
      ],
      "metadata": {
        "colab": {
          "base_uri": "https://localhost:8080/"
        },
        "id": "BUqxpMywFDSC",
        "outputId": "fd52faa0-7db1-48a1-e189-ddb3d38d6e5e"
      },
      "execution_count": null,
      "outputs": [
        {
          "output_type": "stream",
          "name": "stdout",
          "text": [
            "20 exists in the list.\n"
          ]
        }
      ]
    },
    {
      "cell_type": "markdown",
      "source": [
        "8. Find the index of the first occurrence of an element in a list."
      ],
      "metadata": {
        "id": "Ka59w2BuF5Cp"
      }
    },
    {
      "cell_type": "code",
      "source": [
        "# Example list\n",
        "my_list = [10, 20, 30, 40, 50, 30]\n",
        "\n",
        "# Element to find the index of\n",
        "element_to_find = 30\n",
        "\n",
        "# Find the index of the first occurrence of the element\n",
        "index = my_list.index(element_to_find)\n",
        "\n",
        "# Print the index\n",
        "print(f\"The index of {element_to_find} is {index}\")"
      ],
      "metadata": {
        "colab": {
          "base_uri": "https://localhost:8080/"
        },
        "id": "_eCjVMpMFvmh",
        "outputId": "a9899a5a-3821-4860-a90c-69e52bf29a9f"
      },
      "execution_count": null,
      "outputs": [
        {
          "output_type": "stream",
          "name": "stdout",
          "text": [
            "The index of 30 is 2\n"
          ]
        }
      ]
    },
    {
      "cell_type": "markdown",
      "source": [
        "9. Count the occurrences of an element in a list."
      ],
      "metadata": {
        "id": "N-x4bCoZGS2V"
      }
    },
    {
      "cell_type": "code",
      "source": [
        "# Example list\n",
        "my_list = [10, 20, 30, 40, 50, 30, 30]\n",
        "\n",
        "# Element to count occurrences of\n",
        "element_to_count = 30\n",
        "\n",
        "# Count the occurrences of the element\n",
        "count = my_list.count(element_to_count)\n",
        "\n",
        "# Print the count\n",
        "print(f\"The element {element_to_count} occurs {count} times in the list.\")"
      ],
      "metadata": {
        "colab": {
          "base_uri": "https://localhost:8080/"
        },
        "id": "LDBlJxsLGPWb",
        "outputId": "603c4756-339f-4311-ce44-26607a9126d6"
      },
      "execution_count": null,
      "outputs": [
        {
          "output_type": "stream",
          "name": "stdout",
          "text": [
            "The element 30 occurs 3 times in the list.\n"
          ]
        }
      ]
    },
    {
      "cell_type": "markdown",
      "source": [
        "10. Reverse the order of elements in a list."
      ],
      "metadata": {
        "id": "vRgmPEbeGfQj"
      }
    },
    {
      "cell_type": "code",
      "source": [
        "# Example list\n",
        "my_list = [10, 20, 30, 40, 50]\n",
        "\n",
        "# Reverse the order of elements in the list\n",
        "my_list.reverse()\n",
        "\n",
        "# Print the reversed list\n",
        "print(\"Reversed list:\", my_list)"
      ],
      "metadata": {
        "colab": {
          "base_uri": "https://localhost:8080/"
        },
        "id": "gyEmUFO9GYHG",
        "outputId": "e147763d-0f78-47ba-cbb4-21fc0d415188"
      },
      "execution_count": null,
      "outputs": [
        {
          "output_type": "stream",
          "name": "stdout",
          "text": [
            "Reversed list: [50, 40, 30, 20, 10]\n"
          ]
        }
      ]
    },
    {
      "cell_type": "markdown",
      "source": [
        "11. Sort a list in ascending order."
      ],
      "metadata": {
        "id": "rH9IvssqGoMm"
      }
    },
    {
      "cell_type": "code",
      "source": [
        "# Example list\n",
        "my_list = [50, 10, 30, 40, 20]\n",
        "\n",
        "# Sort the list in ascending order\n",
        "my_list.sort()\n",
        "\n",
        "# Print the sorted list\n",
        "print(\"Sorted list in ascending order:\", my_list)"
      ],
      "metadata": {
        "colab": {
          "base_uri": "https://localhost:8080/"
        },
        "id": "2jJ4F6HuGlKb",
        "outputId": "b21807e7-e5b7-4aa1-b84c-9d722b3e5552"
      },
      "execution_count": null,
      "outputs": [
        {
          "output_type": "stream",
          "name": "stdout",
          "text": [
            "Sorted list in ascending order: [10, 20, 30, 40, 50]\n"
          ]
        }
      ]
    },
    {
      "cell_type": "markdown",
      "source": [
        "12. Sort a list in descending order."
      ],
      "metadata": {
        "id": "2bd_yRZpG6bp"
      }
    },
    {
      "cell_type": "code",
      "source": [
        "# Example list\n",
        "my_list = [50, 10, 30, 40, 20]\n",
        "\n",
        "# Sort the list in descending order\n",
        "my_list.sort(reverse=True)\n",
        "\n",
        "# Print the sorted list\n",
        "print(\"Sorted list in descending order:\", my_list)"
      ],
      "metadata": {
        "colab": {
          "base_uri": "https://localhost:8080/"
        },
        "id": "bbb9nTuQGwO_",
        "outputId": "ae469264-42fa-4223-f5c0-470178a2ca4b"
      },
      "execution_count": null,
      "outputs": [
        {
          "output_type": "stream",
          "name": "stdout",
          "text": [
            "Sorted list in descending order: [50, 40, 30, 20, 10]\n"
          ]
        }
      ]
    },
    {
      "cell_type": "markdown",
      "source": [
        "13. Create a list of even numbers from 1 to 20."
      ],
      "metadata": {
        "id": "0eKS3R1uHDNc"
      }
    },
    {
      "cell_type": "code",
      "source": [
        "# Use a list comprehension to create a list of even numbers from 1 to 20\n",
        "even_numbers = [x for x in range(2, 21, 2)]\n",
        "\n",
        "# Print the list of even numbers\n",
        "print(\"List of even numbers:\", even_numbers)"
      ],
      "metadata": {
        "colab": {
          "base_uri": "https://localhost:8080/"
        },
        "id": "jF4OU4CXHB_N",
        "outputId": "79d374e7-da5c-44ac-ff13-4cdf505354fe"
      },
      "execution_count": null,
      "outputs": [
        {
          "output_type": "stream",
          "name": "stdout",
          "text": [
            "List of even numbers: [2, 4, 6, 8, 10, 12, 14, 16, 18, 20]\n"
          ]
        }
      ]
    },
    {
      "cell_type": "markdown",
      "source": [
        "14. Create a list of odd numbers from 1 to 20."
      ],
      "metadata": {
        "id": "t_zZ3dOFHdic"
      }
    },
    {
      "cell_type": "code",
      "source": [
        "# Use a list comprehension to create a list of odd numbers from 1 to 20\n",
        "odd_numbers = [x for x in range(1, 21, 2)]\n",
        "\n",
        "# Print the list of odd numbers\n",
        "print(\"List of odd numbers:\", odd_numbers)"
      ],
      "metadata": {
        "colab": {
          "base_uri": "https://localhost:8080/"
        },
        "id": "y1CbYgdJHKQ8",
        "outputId": "78ffe03f-208e-4edf-e0b1-e0f4117dfe0e"
      },
      "execution_count": null,
      "outputs": [
        {
          "output_type": "stream",
          "name": "stdout",
          "text": [
            "List of odd numbers: [1, 3, 5, 7, 9, 11, 13, 15, 17, 19]\n"
          ]
        }
      ]
    },
    {
      "cell_type": "markdown",
      "source": [
        "15. Find the sum of all elements in a list."
      ],
      "metadata": {
        "id": "-fMCXxNPJbfg"
      }
    },
    {
      "cell_type": "code",
      "source": [
        "# Example list\n",
        "my_list = [10, 20, 30, 40, 50]\n",
        "\n",
        "# Calculate the sum of all elements in the list\n",
        "total_sum = sum(my_list)\n",
        "\n",
        "# Print the sum\n",
        "print(\"Sum of elements:\", total_sum)"
      ],
      "metadata": {
        "colab": {
          "base_uri": "https://localhost:8080/"
        },
        "id": "q8wkFfiQHmJy",
        "outputId": "44b62933-ac4b-4d9b-e13d-6f3efbbfc47c"
      },
      "execution_count": null,
      "outputs": [
        {
          "output_type": "stream",
          "name": "stdout",
          "text": [
            "Sum of elements: 150\n"
          ]
        }
      ]
    },
    {
      "cell_type": "markdown",
      "source": [
        "16. Find the maximum value in a list."
      ],
      "metadata": {
        "id": "2exkunC7wQ4r"
      }
    },
    {
      "cell_type": "code",
      "source": [
        "# Example list\n",
        "my_list = [10, 20, 30, 40, 50]\n",
        "\n",
        "# Find the maximum value in the list\n",
        "max_value = max(my_list)\n",
        "\n",
        "# Print the maximum value\n",
        "print(\"Maximum value:\", max_value)"
      ],
      "metadata": {
        "colab": {
          "base_uri": "https://localhost:8080/"
        },
        "id": "iCk3vajiJiNm",
        "outputId": "7adcec2a-7d16-4815-bba5-d6bef7c3e6df"
      },
      "execution_count": null,
      "outputs": [
        {
          "output_type": "stream",
          "name": "stdout",
          "text": [
            "Maximum value: 50\n"
          ]
        }
      ]
    },
    {
      "cell_type": "markdown",
      "source": [
        "17. Find the minimum value in a list.\n"
      ],
      "metadata": {
        "id": "u107vxylwh3r"
      }
    },
    {
      "cell_type": "code",
      "source": [
        "# Example list\n",
        "my_list = [10, 20, 30, 40, 50]\n",
        "\n",
        "# Find the minimum value in the list\n",
        "min_value = min(my_list)\n",
        "\n",
        "# Print the minimum value\n",
        "print(\"Minimum value:\", min_value)"
      ],
      "metadata": {
        "colab": {
          "base_uri": "https://localhost:8080/"
        },
        "id": "-vNnUZPHwUUP",
        "outputId": "d3aa680f-05bf-4913-b3b0-a013dad2312f"
      },
      "execution_count": null,
      "outputs": [
        {
          "output_type": "stream",
          "name": "stdout",
          "text": [
            "Minimum value: 10\n"
          ]
        }
      ]
    },
    {
      "cell_type": "code",
      "source": [
        "8959979922"
      ],
      "metadata": {
        "id": "exJMtJ7EwlAR"
      },
      "execution_count": null,
      "outputs": []
    }
  ]
}